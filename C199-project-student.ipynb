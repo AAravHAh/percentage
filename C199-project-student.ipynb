{
 "cells": [
  {
   "cell_type": "code",
   "execution_count": 6,
   "metadata": {},
   "outputs": [
    {
     "name": "stdout",
     "output_type": "stream",
     "text": [
      "Name\n",
      "Build a GUI application for data visualization of word population and on various other parameters of world population\n"
     ]
    }
   ],
   "source": [
    "print(\"Name\")\n",
    "print(\"Build a GUI application for data visualization of word population and on various other parameters of world population\")\n"
   ]
  },
  {
   "cell_type": "markdown",
   "metadata": {},
   "source": [
    "# Task - Build a GUI application for data visualization of word population and on various other parameters of world population"
   ]
  },
  {
   "cell_type": "code",
   "execution_count": 1,
   "metadata": {},
   "outputs": [],
   "source": [
    "#image \n",
    "#predefine code for image\n",
    "from IPython.display import Image\n",
    "Image(filename='map.jpg') \n",
    "#predefine code end\n",
    "from ipywidgets import widgets\n",
    "from IPython.display import display, clear_output\n",
    "import pandas as pd\n",
    "import matplotlib.pyplot as plt \n",
    "from tkinter import Tk, filedialog\n",
    "\n",
    "graph_type = ['Choose one.. ','line','bar']\n",
    "df = ''\n",
    "def select_files(b):\n",
    "    clear_output()\n",
    "    global graph_type\n",
    "    global df\n",
    "    root = Tk()\n",
    "    root.withdraw()\n",
    "    file_name = filedialog.askopenfilename()\n",
    "    df = pd.read_csv(file_name)\n",
    "    print(file_name)\n",
    "    xlabel_widget = widgets.Dropdown(options = df.columns)\n",
    "    ylabel_widget = widgets.Dropdown(options = df.columns)\n",
    "    graph_widget = widgets.Dropdown(options = graph_type)\n",
    "    graph = widget = widgets.interactive(display_plot, xaxis=xlabel_widget, yaxis=ylabel_widget, graph_type=graph_widget)\n",
    "    display(graph)\n",
    "\n",
    "def display_plot(xaxis, yaxis, graph_type):\n",
    "    global df\n",
    "    if(graph_type == 'line'):\n",
    "        plt.subplots(figsize=(19,8))\n",
    "        plt.xticks(rotation='vertical')\n",
    "        plt.legend()\n",
    "        plt.xlabel(xaxis, size=14)\n",
    "        plt.ylabel(yaxis, size=14) \n",
    "    elif(graph_type == 'bar'):\n",
    "        plt.subplots(figsize=(19,8))\n",
    "        plt.bar(df[xaxis], df[yaxis], color=['red','green','blue','yellow','pink'])\n",
    "        plt.xlabel(xaxis)\n",
    "        plt.xticks(rotation='vertical')\n",
    "        plt.ylabel(yaxis)\n",
    "        plt.show()\n",
    "    else:\n",
    "        print(\"Choose valid graph\")\n",
    "\n",
    "\n",
    "fileselect = widgets.Button(description=\"File select\")\n",
    "fileselect.on_click(select_files) \n",
    "display(fileselect)"
   ]
  },
  {
   "cell_type": "code",
   "execution_count": null,
   "metadata": {},
   "outputs": [],
   "source": []
  },
  {
   "cell_type": "code",
   "execution_count": null,
   "metadata": {},
   "outputs": [],
   "source": []
  }
 ],
 "metadata": {
  "kernelspec": {
   "display_name": "Python 3 (ipykernel)",
   "language": "python",
   "name": "python3"
  },
  "language_info": {
   "codemirror_mode": {
    "name": "ipython",
    "version": 3
   },
   "file_extension": ".py",
   "mimetype": "text/x-python",
   "name": "python",
   "nbconvert_exporter": "python",
   "pygments_lexer": "ipython3",
   "version": "3.11.5"
  }
 },
 "nbformat": 4,
 "nbformat_minor": 4
}
